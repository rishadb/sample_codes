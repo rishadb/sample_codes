{
  "nbformat": 4,
  "nbformat_minor": 0,
  "metadata": {
    "colab": {
      "name": "mySQL.sql",
      "provenance": [],
      "collapsed_sections": [],
      "authorship_tag": "ABX9TyPiNPz++BRdDNDJdcFZkdiA",
      "include_colab_link": true
    },
    "kernelspec": {
      "name": "python3",
      "display_name": "Python 3"
    },
    "language_info": {
      "name": "python"
    }
  },
  "cells": [
    {
      "cell_type": "markdown",
      "metadata": {
        "id": "view-in-github",
        "colab_type": "text"
      },
      "source": [
        "<a href=\"https://colab.research.google.com/github/rishadb/sample_codes/blob/main/mySQL_sql.ipynb\" target=\"_parent\"><img src=\"https://colab.research.google.com/assets/colab-badge.svg\" alt=\"Open In Colab\"/></a>"
      ]
    },
    {
      "cell_type": "markdown",
      "source": [
        "## API(authentication, CRUD, validation, Documentation), alembic, postman, testing, deployment(ubuntu, heroku), docker, ci/cd pipeline using github actions, Fastapi, postgres, sqlAlchemy\n",
        "10:25:00 issue was in inheritance from PostBase instead of BaseModel. "
      ],
      "metadata": {
        "id": "6LZ0pxhsjeoI"
      }
    },
    {
      "cell_type": "code",
      "source": [
        "CREATE DATABASE dbName; USE dbName;\n",
        "CREATE TABLE studs (\n",
        "    id INT AUTO_INCREMENT,\n",
        "    name VARCHAR(30) NOT NULL,\n",
        "    mob INT UNIQUE,\n",
        "    major VARCHAR(20) DEFAULT \"Undecided\",\n",
        "    PRIMARY KEY(id)\n",
        ");\n",
        "DESCRIBE studs;\n",
        "DROP TABLE STUDS;\n",
        "SELECT * FROM studs;\n",
        "\n",
        "-- <, >, <=, >=, =, <>, AND, OR\n",
        "-- INT, DECIMAL(m,n),VARCHAR(l), BLOB, DATE, TIMESTAMP \n",
        "#INSERT\n",
        "INSERT INTO studs VALUES(13,'Jack',8321, \"Biology\");\n",
        "INSERT INTO studs VALUES('Jacky',882, \"Sociology\"); -- this fails coz id not given, but the below line works w/o id\n",
        "INSERT INTO studs(name) VALUES('Mack'), ('wack') returning *; -- CAPS DONT MATTER , order of col and vals matters, returing return the change in table\n",
        "\n",
        "#UPDATE\n",
        "UPDATE studs\n",
        "SET MAJOR = \"Bio\", major = \"General\"\n",
        "WHERE MAJOR = 'Biology' OR NAME = \"jaCky\" RETURNING name; -- here capitals doesn't matter, also w/o WHERE all col vals are set to given val\n",
        "\n",
        "#DELETE\n",
        "DELETE FROM studs\n",
        "WHERE name = \"Mack\" AND mob = null returning *; -- w/o WHERE, deletes whole table data\n",
        "ALTER TABLE studs ADD age INT;\n",
        "\n",
        "#QUERYING\n",
        "SELECT name AS student_Name, studS.major, COUNT(Name), AVG(age)  -- funs- SUM, \n",
        "FROM stuDS \n",
        "WHERE major = \"Bio\" AND id<=3 OR name <> \"jack\" AND name IN ('CLaire', 'Jack', 'Mack') OR name NOT LIKE 'Cla%'\n",
        "ORDER BY major DESC, ID DESC\n",
        "LIMIT 2 OFFSET 1; #offfset ignore the first mentioned num of raws \n",
        "\n",
        "SELECT COUNT(id), id FROM studs ; -- count names, grup\n",
        "\n",
        "\n",
        "SELECT DISTINCT major FROM studs; --gives unique values in major column\n",
        "\n",
        "\n",
        "\n",
        "#multiple tables\n",
        "\n",
        "CREATE TABLE Employee(\n",
        "    Emp_id INT PRIMARY KEY, first_name VARCHAR(20),last_name VARCHAR(20),birth_day DATE,sex VARCHAR(1),salary INT,super_id INT,branch_id INT\n",
        ");\n",
        "\n",
        "#ALTER TABLE SCHEMA\n",
        "ALTER TABLE Employee\n",
        "ADD FOREIGN KEY(branch_id) REFERENCES branch(branch_id) ON DELETE SET NULL,\n",
        "ADD FOREIGN KEY(super_id) REFERENCES employee(Emp_id)ON DELETE SET NULL,\n",
        "ADD age INT; -- adds colum age into the table\n",
        "\n",
        "CREATE TABLE branch (\n",
        "    branch_id INT PRIMARY KEY, branch_name VARCHAR(20), mgr_id INT, mgr_start_date DATE,\n",
        "    FOREIGN KEY(mgr_id) REFERENCES Employee(Emp_id) ON DELETE SET NULL\n",
        ");\n",
        "\n",
        "CREATE TABLE client (client_id INT PRIMARY KEY, client_name VARCHAR(30), branch_id INT,\n",
        "FOREIGN KEY(branch_id) REFERENCES branch(branch_id) ON DELETE SET NULL);\n",
        "\n",
        "CREATE TABLE works_with(emp_id INT, client_id INT, total_sales INT, PRIMARY KEY(emp_id, client_id), \n",
        "FOREIGN KEY(emp_id) REFERENCES employee(emp_id) ON DELETE CASCADE, FOREIGN KEY(client_id) REFERENCES client(client_id) ON DELETE CASCADE);\n",
        "\n",
        "CREATE TABLE branch_supplier(branch_id INT, supplier_name VARCHAR(20), supply_type VARCHAR(20), PRIMARY KEY(branch_id, supplier_name),\n",
        "FOREIGN KEY(branch_id) REFERENCES branch(branch_id) ON DELETE CASCADE);\n",
        "\n",
        "DROP TABLE branch_supplier;"
      ],
      "metadata": {
        "id": "v7Uo6A_zmTQu",
        "colab": {
          "base_uri": "https://localhost:8080/"
        },
        "outputId": "b9fa7c9a-6151-42a1-c417-235d37d5e23b"
      },
      "execution_count": null,
      "outputs": [
        {
          "output_type": "error",
          "ename": "SyntaxError",
          "evalue": "ignored",
          "traceback": [
            "\u001b[0;36m  File \u001b[0;32m\"<ipython-input-1-3bdefe5bcf37>\"\u001b[0;36m, line \u001b[0;32m1\u001b[0m\n\u001b[0;31m    CREATE DATABASE dbName; USE dbName;\u001b[0m\n\u001b[0m                  ^\u001b[0m\n\u001b[0;31mSyntaxError\u001b[0m\u001b[0;31m:\u001b[0m invalid syntax\n"
          ]
        }
      ]
    },
    {
      "cell_type": "code",
      "source": [
        ""
      ],
      "metadata": {
        "id": "kA6nrwZzL00H"
      },
      "execution_count": null,
      "outputs": []
    }
  ]
}