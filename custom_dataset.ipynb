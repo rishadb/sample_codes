{
  "nbformat": 4,
  "nbformat_minor": 0,
  "metadata": {
    "colab": {
      "name": "custom_dataset.ipynb",
      "provenance": [],
      "collapsed_sections": [],
      "mount_file_id": "1NhH9kbzxAxnFfuSVvq39eQNDY5Mq6zS2",
      "authorship_tag": "ABX9TyMSoYlX+Z9SuWEpWVxGa3kL",
      "include_colab_link": true
    },
    "kernelspec": {
      "name": "python3",
      "display_name": "Python 3"
    },
    "language_info": {
      "name": "python"
    }
  },
  "cells": [
    {
      "cell_type": "markdown",
      "metadata": {
        "id": "view-in-github",
        "colab_type": "text"
      },
      "source": [
        "<a href=\"https://colab.research.google.com/github/rishadb/sample_codes/blob/main/custom_dataset.ipynb\" target=\"_parent\"><img src=\"https://colab.research.google.com/assets/colab-badge.svg\" alt=\"Open In Colab\"/></a>"
      ]
    },
    {
      "cell_type": "code",
      "execution_count": null,
      "metadata": {
        "id": "hp_UJTW5lib6"
      },
      "outputs": [],
      "source": [
        "#custom Dataset for images:\n",
        "import os\n",
        "import pandas as pd\n",
        "import torch\n",
        "from torch.utils.data import Dataset \n",
        "import torchvision.transforms as transforms\n",
        "from skimage import io\n",
        "#dataset is folder with images, anf a csv with file name and category as 0,1,...\n",
        "class Catsdogs(Dataset):\n",
        "  def __init__(self, root, csv, transform=None):\n",
        "    self.annotations = pd.read_csv(csv)\n",
        "    self.root = root\n",
        "    self.transform = transform\n",
        "  \n",
        "  def __len__(self):\n",
        "    return len(self.annotations)\n",
        "\n",
        "  def __getitem__(self, index):\n",
        "    img_path = os.path.join(self.root, self.annotations.iloc[img, 0])\n",
        "    y_label = self.annotations.iloc[img, 1]\n",
        "    image = io.imread(img_path)\n",
        "    if self.transform:\n",
        "      image = self.transform(image)\n",
        "    return (image, y_label)\n",
        "\n",
        "#import as from customDataset import Castogs\n",
        "#dataset = catsdogs(....)\n",
        "#train_set, test_set = torch.utils.data.random_split(dataset, [train_set_size, test_set_size])"
      ]
    },
    {
      "cell_type": "code",
      "source": [
        "#Custom dataset for text\n",
        "\n",
        "class Customtextset(Dataset):\n",
        "  def __init(self):\n",
        "    \n",
        "  def __len__(self):\n",
        "    pass\n",
        "  def __getitem__(self):\n",
        "    pass\n"
      ],
      "metadata": {
        "id": "J5xXAjsRQU0H"
      },
      "execution_count": null,
      "outputs": []
    }
  ]
}