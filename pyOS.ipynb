{
  "nbformat": 4,
  "nbformat_minor": 0,
  "metadata": {
    "colab": {
      "name": "pyOS.ipynb",
      "provenance": [],
      "collapsed_sections": [],
      "authorship_tag": "ABX9TyPwq4MiI5Ougp9nKlhLxHaQ",
      "include_colab_link": true
    },
    "kernelspec": {
      "name": "python3",
      "display_name": "Python 3"
    },
    "language_info": {
      "name": "python"
    }
  },
  "cells": [
    {
      "cell_type": "markdown",
      "metadata": {
        "id": "view-in-github",
        "colab_type": "text"
      },
      "source": [
        "<a href=\"https://colab.research.google.com/github/rishadb/sample_codes/blob/main/pyOS.ipynb\" target=\"_parent\"><img src=\"https://colab.research.google.com/assets/colab-badge.svg\" alt=\"Open In Colab\"/></a>"
      ]
    },
    {
      "cell_type": "code",
      "execution_count": null,
      "metadata": {
        "id": "OeV6RzLUiFK4"
      },
      "outputs": [],
      "source": [
        "#OS module\n",
        "import os #interact with underlying OS like navigate file s/m, get file info, lookup and change env vars, move files,...\n",
        "from datetime import datetime # used here to convert timestamp to human readable form\n",
        "\n",
        "dir((os))# all of attr and methods we have access to with the current OS within this module; use dir(os.mathodName) to see specific method's method\n",
        "os.getcwd()#get current working directory\n",
        "os.chdir(\"pathToBechangedTo\") #change directory\n",
        "os.listdir() #without a path arg, this lists all contents of the current dir\n",
        "os.mkdir(\"dirnameTobeCreated\") #make dir\n",
        "os.mkdirs(\"dirtoBecreated/subDirTobeCreated..\")# make directories\n",
        "os.rmdir(\"dirToberemoved\") #remove dir, use os.removedirs to delete entire dir trees\n",
        "os.rename(\"file/foldernameToBeRenamed\" \"newName\")\n",
        "os.stat(\"fileName\") #gives info about the file\n",
        "mod_time = os.stat(\"fileName\").st_mtime # gives the modification time of the file as a timestamp from info; use below code to convert time stamp to human readable format\n",
        "datetime.fromtimestamp(mod_time)\n",
        "for dir_path, dir_name, file_names in os.walk(\"pathToStartWalkingFrom\"): #generator that yeilds a tuple of 3 vals(dir_path, dirs within that path, files_within that path) as it is walking down the dir tree; search and fetch file or file info\n",
        "  print(f(\"current_path: {dir_path}, directories:{dir_name}, Files:{file_names}))\n",
        "os.environ.get('ENV_NAME') #gives the os env vars\n",
        "os.path.join(\"1st part of the path\", \"second part of the path to be\") #adds two strings to make a location; this way, the / is added if needed\n",
        "os.path.basename/dirname/split/exist/isdir/isfile/splittext(\"pathOfaFile\") #basename fives fileName, dirname gives filename, split gives both, exist gives wheather file exist or not, isdir checks if its a directory, isfile check if its a file, splittext splits the path and the file extension and returns both\n"
      ]
    },
    {
      "cell_type": "code",
      "source": [
        "#when python runs py file directly, some vars are set before running code, such as __name__ = \"__main__\". when that file is imported in other py file, there the __name__ is set to the name of its file(coz the py file is not being run directly, but is being imported)\n",
        "def main():\n",
        "  pass\n",
        "if __name__ == '__main__':\n",
        "  main() #make main run only if its run directly, ie., dont run main if its being imported coz importing file automatically run the whole imported file at the importing file\n",
        "\n"
      ],
      "metadata": {
        "id": "-6mzMWI3iHQY"
      },
      "execution_count": null,
      "outputs": []
    },
    {
      "cell_type": "code",
      "source": [
        "f = open(\"fileName\", 'r/w/a/r+')# opens file as r for read only, w for write only (if a file doesn't exist, the file will be created, if exists, the file will be override; use append to edit existing file), a for append, r+ for read and write\n",
        "f.name/mode/... #name gets name of file, mode gets mode it opened by,..\n",
        "f.close() #need to be closed manuallyy, otherwise cremains in the memory till it closes\n",
        "with open(....) as afileName: # with is a context mgr. the file is open in the with context, and closes automatically after the context end. do the file ops in the with context\n",
        "  f_contents = afileName.read() #stores all contents of file in the variable\n",
        "  f_lines = afileName.readlines() # gives a list with lines of the file\n",
        "  f_lines = afileName.readline() #generates the next line every time this gets called; remembers the prev line\n",
        "  for line in f:\n",
        "    print(line, end=\"\")# \"end\" here will remove the extra empty line put ny readline\n",
        "    f_content = afileName.read(numOfCharsTobeRead) #generates the lines mentioned. when called again, line starts from where left off in prev call\n",
        "    f.tell() #gives the current char position\n",
        "    f.seek(editTheCharPositionToBeReadFrom) #give a number where the next read call should start from\n",
        "    f.write('content to be written to the file')\n",
        "\n",
        "with open(fileName, \"r\") as rf: #copies the file content to copy_file. To copy other file types like image, put a b after r/w\n",
        "  with open(copy_fileName, \"w\") as wf:\n",
        "    for line in rf:\n",
        "      wf.write(line)\n",
        "\n",
        "with open(fileName, \"r\") as rf: #copies the file content to copy_file. To copy other file types like image, put a b after r/w\n",
        "  with open(copy_fileName, \"w\") as wf:\n",
        "    chunk_size = numberOfcharsTocopyInaStep\n",
        "    rf_chunck = rf.read(chunck_size)\n",
        "    while len(rf_chunk) > 0:\n",
        "      wf.write(rf_chunk) #writing starts at end of prev char position\n",
        "      rf_chunck = rf.read(chunck_size) #read starts where leftoff in prev step\n"
      ],
      "metadata": {
        "id": "GVXXdPh7i8hE"
      },
      "execution_count": null,
      "outputs": []
    },
    {
      "cell_type": "code",
      "source": [
        "#CSV FILE OPS - read, write, parse\n",
        "import csv\n",
        "with open(csv_file, \"r/w/p\") as csv_file:\n",
        "  csv_reader = csv.reader(csv_file) #csv_reader is an iterator object in memory, need to loop over to get the datas as lilsts\n",
        "    for line in csv_reader:\n",
        "\n",
        "#DICTWRITER/DICTREADER alternate to reader/writer\n",
        "\n",
        "with open('names.csv', 'r') as csv_file:\n",
        "    csv_reader = csv.DictReader(csv_file) #returns dict object with keys\n",
        "\n",
        "    with open('new_names.csv', 'w') as new_file:\n",
        "        fieldnames = ['first_name', 'last_name'] #mention keys/ fields to be copied here to be passed into dictwriter\n",
        "\n",
        "        csv_writer = csv.DictWriter(new_file, fieldnames=fieldnames, delimiter='\\t')# make a writer var to be used for writing later. putting delmeter arg here as tab, default delimeter is comma\n",
        "\n",
        "        csv_writer.writeheader() #do this only if wish to have a header\n",
        "\n",
        "        for line in csv_reader: \n",
        "            del line['email'] #delete the email field\n",
        "            csv_writer.writerow(line) #write line by line to new file\n"
      ],
      "metadata": {
        "id": "JjsL4UwtX5At"
      },
      "execution_count": null,
      "outputs": []
    },
    {
      "cell_type": "code",
      "source": [
        "#CONTEXT MANAGERS - used for opening and closing DB connection, acquirung and releasing logs,..\n",
        "import os\n",
        "from contextlib import contextmanager\n",
        "\n",
        "\n",
        "@contextmanager\n",
        "def change_dir(destination):\n",
        "    try:\n",
        "        cwd = os.getcwd()\n",
        "        os.chdir(destination)\n",
        "        yield\n",
        "    finally:\n",
        "        os.chdir(cwd)\n",
        "\n",
        "\n",
        "with change_dir('Sample-Dir-One'):\n",
        "    print(os.listdir())\n",
        "\n",
        "with change_dir('Sample-Dir-Two'):\n",
        "    print(os.listdir())"
      ],
      "metadata": {
        "id": "dRRUaDGId4-G"
      },
      "execution_count": null,
      "outputs": []
    },
    {
      "cell_type": "code",
      "source": [
        ""
      ],
      "metadata": {
        "id": "bc7uh_K-mw6w"
      },
      "execution_count": null,
      "outputs": []
    }
  ]
}