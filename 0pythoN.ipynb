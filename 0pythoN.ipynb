{
  "nbformat": 4,
  "nbformat_minor": 0,
  "metadata": {
    "colab": {
      "name": "0pythoN.ipynb",
      "provenance": [],
      "collapsed_sections": [],
      "authorship_tag": "ABX9TyPM3ddWCksQPA5vbBfDBmym",
      "include_colab_link": true
    },
    "kernelspec": {
      "name": "python3",
      "display_name": "Python 3"
    },
    "language_info": {
      "name": "python"
    }
  },
  "cells": [
    {
      "cell_type": "markdown",
      "metadata": {
        "id": "view-in-github",
        "colab_type": "text"
      },
      "source": [
        "<a href=\"https://colab.research.google.com/github/rishadb/sample_codes/blob/main/0pythoN.ipynb\" target=\"_parent\"><img src=\"https://colab.research.google.com/assets/colab-badge.svg\" alt=\"Open In Colab\"/></a>"
      ]
    },
    {
      "cell_type": "code",
      "source": [
        "class cla1():\n",
        "  def __init__(self,arg):\n",
        "    pass\n",
        "  pass\n",
        "a = cla1(32)\n",
        "a.att1 = \"ok\"\n",
        "a.att1"
      ],
      "metadata": {
        "id": "5qJCH1FncL5B",
        "colab": {
          "base_uri": "https://localhost:8080/",
          "height": 36
        },
        "outputId": "c758d579-87b6-402a-fed8-6f959e03a2e9"
      },
      "execution_count": null,
      "outputs": [
        {
          "output_type": "execute_result",
          "data": {
            "text/plain": [
              "'ok'"
            ],
            "application/vnd.google.colaboratory.intrinsic+json": {
              "type": "string"
            }
          },
          "metadata": {},
          "execution_count": 2
        }
      ]
    },
    {
      "cell_type": "code",
      "source": [
        "class cla1():\n",
        "  #class vars\n",
        "  class_var = 3 #these are class vars, they belong to class, not to instance\n",
        "  class_var2 = 2\n",
        "\n",
        "#Dunder/magic/special methods\n",
        "  #initialize methode with instance vars\n",
        "  def __init__(self, arg1, arg2 =2 ): #put the args specified here when\n",
        "    self.arg1 = arg1 + str(self.class_var2)\n",
        "    self.arg2 = arg2 * cla1.class_var #use self or className when accessign class variable\n",
        "    cla1.class_var2 +=1 #instead of self, classname used, so the instance var is not used. Also subclasses can alter value if it is self \n",
        "\n",
        "#repr and str methods for print()\n",
        "  #use print(clainstanceName) or print(clainst.__repr__())\n",
        "  def __repr__(self):  #for coder\n",
        "    return '{} {}'.format(self.arg1, self.arg2)\n",
        "  def __str__(self): #for end user\n",
        "    return f'cla1({self.arg1}, {self.arg2})'\n",
        "  def __add__(self, other): #for cla1instance + cla1insta\n",
        "    if \"conditionHere\":\n",
        "      return self.arg1 + other.arg1\n",
        "    return NotImplemented\n",
        "\n",
        "\n",
        "  #regular methodx`\n",
        "  def method1(self, arg3): #always add self in methods as instance get passed on to the method automatically when called\n",
        "    return f\"{self.arg1}\"\n",
        "  \n",
        "  #class methods\n",
        "  @classmethod #can be used as an alternative constructor too\n",
        "  def classmeth1(cls, new_class_var): #cls is like self, but to pass class as arg\n",
        "    cls.class_var = new_class_var\n",
        "  \n",
        "  #decorators\n",
        "  @classmethod\n",
        "  def classmeth_asconstructor(cls, employee_name): #add cls instead of self to pass in class instead of instance\n",
        "    arg1, arg2 = employee_name.split('-') #when name passed like John-Doe\n",
        "    return cls(arg1, arg2) #makes the class variables\n",
        "\n",
        "  @staticmethod\n",
        "  def statmethod1(statarg1, starg2): #no need of self or cls to pass in. this is an independent method associated with the class, which does \n",
        "  #not use any lass or instance variables\n",
        "    pass\n",
        "  \n",
        "  #getters\n",
        "  @property # can call cla1Instance.combineargs to give the value like an attribute\n",
        "  def combineargs(self):\n",
        "    return f'{self.arg1}-->{self.arg2}'\n",
        "  \n",
        "  @combineargs.setter #can call cla1Instance.combineargs = value \n",
        "  def combineargs(self, comarg1):\n",
        "    arg1, arg2 = comarg1.split(\"-->\")\n",
        "    self.arg1 = arg1\n",
        "    self.arg2 = arg2\n",
        "\n",
        "  @combineargs.deleter\n",
        "  def combineargs(self):\n",
        "    print(\"Delete arg\")\n",
        "    self.arg1 = None\n",
        "    self.arg2 = None\n",
        "\n",
        "\n",
        "a = cla1(\"de\", \"fwe\") #instantiate a class\n",
        "print(a.arg1, a.method1(\"wwe\") == cla1.method1(a, \"wwe\"))\n",
        "print(\"class__dict, inst__dict\",cla1.__dict__, a.__dict__) # gives the variables of class or instances\n",
        "\n",
        "\n",
        "\n",
        "#class vs instance variable\n",
        "print(cla1.class_var, a.class_var)\n",
        "cla1.class_var = 32\n",
        "a.class_var = 22\n",
        "print(cla1.class_var, a.class_var)\n",
        "print(a.combineargs)\n",
        "a.classmeth_asconstructor(\"jo-e\")\n"
      ],
      "metadata": {
        "colab": {
          "base_uri": "https://localhost:8080/"
        },
        "id": "QT4UrVdfcV8s",
        "outputId": "23cf6d71-6c08-4fa8-c35a-2059ac1cfbf1"
      },
      "execution_count": null,
      "outputs": [
        {
          "output_type": "stream",
          "name": "stdout",
          "text": [
            "de2 True\n",
            "class__dict, inst__dict {'__module__': '__main__', 'class_var': 3, 'class_var2': 3, '__init__': <function cla1.__init__ at 0x7f6991874d40>, '__repr__': <function cla1.__repr__ at 0x7f6991874ef0>, '__str__': <function cla1.__str__ at 0x7f6991874170>, '__add__': <function cla1.__add__ at 0x7f69918745f0>, 'method1': <function cla1.method1 at 0x7f6991874560>, 'classmeth1': <classmethod object at 0x7f6991853e90>, 'classmeth_asconstructor': <classmethod object at 0x7f6991853cd0>, 'statmethod1': <staticmethod object at 0x7f6991853d50>, 'combineargs': <property object at 0x7f69917dcb30>, '__dict__': <attribute '__dict__' of 'cla1' objects>, '__weakref__': <attribute '__weakref__' of 'cla1' objects>, '__doc__': None} {'arg1': 'de2', 'arg2': 'fwefwefwe'}\n",
            "3 3\n",
            "32 22\n",
            "de2-->fwefwefwe\n"
          ]
        },
        {
          "output_type": "execute_result",
          "data": {
            "text/plain": [
              "jo3 eeeeeeeeeeeeeeeeeeeeeeeeeeeeeeee"
            ]
          },
          "metadata": {},
          "execution_count": 14
        }
      ]
    },
    {
      "cell_type": "code",
      "source": [
        "  #Class_method test\n",
        "emp = cla1.classmeth_asconstructor(\"john-dow\")\n",
        "emp1 = cla1.classmeth_asconstructor(\"joh-dw\")\n",
        "emp1.class_var\n",
        "cla1.classmeth_asconstructor(\"jim-boom\")\n",
        "cla1.classmeth1(43)\n",
        "emp3 = cla1.classmeth_asconstructor(\"oh-dw\")\n",
        "emp.arg1\n",
        "emp + emp1"
      ],
      "metadata": {
        "colab": {
          "base_uri": "https://localhost:8080/",
          "height": 36
        },
        "id": "3NZ3a-tqchly",
        "outputId": "e3488ccb-7f5d-48da-f43f-93abb3a6d26c"
      },
      "execution_count": null,
      "outputs": [
        {
          "output_type": "execute_result",
          "data": {
            "text/plain": [
              "'john4joh5'"
            ],
            "application/vnd.google.colaboratory.intrinsic+json": {
              "type": "string"
            }
          },
          "metadata": {},
          "execution_count": 15
        }
      ]
    },
    {
      "cell_type": "code",
      "source": [
        "#inheritance\n",
        "class subcla1(cla1):\n",
        "  def __init__(self, arg1, arg2, subarg1):\n",
        "    super().__init__(arg1, arg2)\n",
        "    self.subarg1 = subarg1\n",
        "  #check instance and subclass\n",
        "  isinstance(emp1, cla1)\n",
        "  issubclass(subcla1, cla1)"
      ],
      "metadata": {
        "id": "JKE4ISpdLISL"
      },
      "execution_count": null,
      "outputs": []
    },
    {
      "cell_type": "code",
      "source": [
        "#special methods:\n",
        "int.__add__(1, 2) == 1+2"
      ],
      "metadata": {
        "colab": {
          "base_uri": "https://localhost:8080/"
        },
        "id": "O7ZxW7WOfaeQ",
        "outputId": "fbd66a24-fb98-4d83-b1ba-245e9c0f720b"
      },
      "execution_count": null,
      "outputs": [
        {
          "output_type": "execute_result",
          "data": {
            "text/plain": [
              "True"
            ]
          },
          "metadata": {},
          "execution_count": 114
        }
      ]
    },
    {
      "cell_type": "code",
      "source": [
        "#round\n",
        "import torch\n",
        "a = torch.tensor([.5, .55, .4, .1, .9, 1])\n",
        "print(a.round())\n",
        "\n"
      ],
      "metadata": {
        "colab": {
          "base_uri": "https://localhost:8080/"
        },
        "id": "s6Lr8fShnZFc",
        "outputId": "d1bb163c-0d11-4d4f-af80-354e9c20f7db"
      },
      "execution_count": null,
      "outputs": [
        {
          "output_type": "stream",
          "name": "stdout",
          "text": [
            "tensor([0., 1., 0., 0., 1., 1.])\n"
          ]
        }
      ]
    },
    {
      "cell_type": "code",
      "source": [
        "#RE\n",
        "import re\n",
        "text = '''abcdefghijklmnopqrstuvwxyz\n",
        "          ABCDEFGHIJKLMNOPQRSTUVWXYZ\n",
        "          1234567890\n",
        "          0987654321\n",
        "          !@#$%^&*()\n",
        "          QWERTYUIOP\n",
        "          ';lkjhgfdsa\n",
        "          /.,mnbvcxz\n",
        "          +_)(*&^%$#@!)\n",
        "          phone: 123-123-1234,\n",
        "          phone: 223-224-2234\n",
        "          phone: 223.220.3298\n",
        "          phone: 432.193.3209\n",
        "          phone: 453.734.0394\n",
        "          Mr Ris\n",
        "          Mr. Ris\n",
        "          Mrs Ris\n",
        "          Mrs. T\n",
        "          Ms Ris\n",
        "\n",
        "          email: CoreyMsha@gmail.com\n",
        "          jame@wuni.in\n",
        "          haEws32@mn.uni-ver.in\n",
        "          dewade@cdsc,sdvwd.vfsvs\n",
        "          scsd@csd\n",
        "          dsfd@)(_)\n",
        "'''\n",
        "  \n",
        "web = '''\n",
        "https://google.com\n",
        "http://www.facebook.com\n",
        "https://www.amazon.in\n",
        "http://www.nasa.gov\n",
        "'''\n",
        "\n",
        "to_escape_meta_char = \". ^ + ? {} [] () \\ |\"\n",
        "#*+?{} quantifier, () group, ^$ start end, \n",
        "#findall, match, search\n",
        "#flags: re.I, \n",
        "\n",
        "rex = r'\\d\\d\\d-\\d\\d\\d-\\d\\d\\d\\d' #find phone\n",
        "rex = r'[24]\\d\\d[-.]\\d\\d[2-4][.-]\\d\\d\\d\\d'\n",
        "rex = r'[^b-dG-J]a' #^ negates the expression\n",
        "rex = r'M(r|s|rs)\\.?\\s[A-Z][a-z]*'\n",
        "rex = r'[\\w.]{1,30}@[\\w.-]+(.com|.in|.edu)'\n",
        "rex = r'https?://(www\\.)?(\\w+)(\\.com|\\.in|\\.gov)'\n",
        "\n",
        "pattern = re.compile(rex)\n",
        "matches = pattern.finditer(web)\n",
        "for i in matches:\n",
        "  print(i.group(3))\n",
        "\n",
        "subbed = pattern.sub(r'\\2\\3', web)\n",
        "print(type(subbed[:]))"
      ],
      "metadata": {
        "id": "-tltFllLuNJk"
      },
      "execution_count": null,
      "outputs": []
    },
    {
      "cell_type": "code",
      "source": [
        "from itertools import product\n",
        "from collections import Counter, namedtuple, OrderedDict, defaultdict, deque\n",
        "a = 'aaaabbb ccc ddd ,,,'; m_counter = Counter(a)# couts all chars and returns a dict; dict.item() gives list of key val pair\n",
        "print(m_counter.items())\n",
        "print(m_counter.most_common(2))\n",
        "Point = namedtuple('ppoint', 'x,y')\n",
        "pt = Point('ddsd', 4)\n",
        "pt, pt.x, pt.y\n",
        "#oredered_dict remembers the order doct assignment; but python 3.7 normal dict remembers order anyway\n",
        "#initiate as default_dict(int), then gives the int if non exisiting key is called\n",
        "#deque is a list where can add items at end and start by deque_instsance.pop...lef"
      ],
      "metadata": {
        "id": "c7rG_26a0h7O"
      },
      "execution_count": null,
      "outputs": []
    },
    {
      "cell_type": "code",
      "source": [
        "par = {'a': [1,2,3], 'b': [3,4,5], \"c\": [6]}\n",
        "Run = namedtuple(\"Run\", par.keys())\n",
        "runs = []\n",
        "for v in product(*par.values()):\n",
        "  runs.append(Run(*v))\n",
        "runs\n",
        "  "
      ],
      "metadata": {
        "id": "pQdcSbKj07WS"
      },
      "execution_count": null,
      "outputs": []
    }
  ]
}